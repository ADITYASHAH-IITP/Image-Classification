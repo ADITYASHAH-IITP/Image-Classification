{
  "nbformat": 4,
  "nbformat_minor": 0,
  "metadata": {
    "colab": {
      "name": "CIFAR-10.ipynb",
      "provenance": [],
      "authorship_tag": "ABX9TyOVZnA5O9wFHgTEK8S2m9my",
      "include_colab_link": true
    },
    "kernelspec": {
      "name": "python3",
      "display_name": "Python 3"
    },
    "language_info": {
      "name": "python"
    },
    "accelerator": "GPU"
  },
  "cells": [
    {
      "cell_type": "markdown",
      "metadata": {
        "id": "view-in-github",
        "colab_type": "text"
      },
      "source": [
        "<a href=\"https://colab.research.google.com/github/ADITYASHAH-IITP/Photo-Classification/blob/main/CIFAR_10.ipynb\" target=\"_parent\"><img src=\"https://colab.research.google.com/assets/colab-badge.svg\" alt=\"Open In Colab\"/></a>"
      ]
    },
    {
      "cell_type": "code",
      "execution_count": null,
      "metadata": {
        "id": "HTdYNdZXT9Tv"
      },
      "outputs": [],
      "source": [
        "import tensorflow as tf\n"
      ]
    },
    {
      "cell_type": "code",
      "source": [
        "tf.__version__"
      ],
      "metadata": {
        "colab": {
          "base_uri": "https://localhost:8080/",
          "height": 35
        },
        "id": "Z4exm8mjUSSe",
        "outputId": "cd35ff33-112c-4b32-da47-e1c7f5e420fb"
      },
      "execution_count": null,
      "outputs": [
        {
          "output_type": "execute_result",
          "data": {
            "application/vnd.google.colaboratory.intrinsic+json": {
              "type": "string"
            },
            "text/plain": [
              "'2.7.0'"
            ]
          },
          "metadata": {},
          "execution_count": 6
        }
      ]
    },
    {
      "cell_type": "markdown",
      "source": [
        "#CIFAR-10\n",
        "\n",
        "\n",
        "\n",
        "\n",
        "\n",
        "\n",
        "---\n",
        "\n",
        "\n"
      ],
      "metadata": {
        "id": "RHBGOskpvCFW"
      }
    },
    {
      "cell_type": "code",
      "source": [
        "from tensorflow.keras.models  import Sequential\n",
        "from tensorflow.keras.layers import Dense,Flatten,Softmax,Conv2D,MaxPooling2D,Dropout"
      ],
      "metadata": {
        "id": "hcUpRYgCvD6t"
      },
      "execution_count": null,
      "outputs": []
    },
    {
      "cell_type": "markdown",
      "source": [
        "#Preparing Layers &  Preparing Optimizer,Loss and metrics"
      ],
      "metadata": {
        "id": "4qXH92R28WrB"
      }
    },
    {
      "cell_type": "code",
      "source": [
        "def get_newmodel():\n",
        "  model = Sequential()\n",
        "  model.add(Conv2D(32, (3, 3), kernel_regularizer=regularizers.l2(1e-8),kernel_initializer='he_uniform', padding='same',activation='relu',name='conv_1', input_shape=(32, 32, 3)))\n",
        "  model.add(Conv2D(32, (3, 3),kernel_regularizer=regularizers.l2(1e-8),kernel_initializer='he_uniform', padding='same', activation='relu',name='conv_2'))\n",
        "  model.add(MaxPooling2D((4, 4),name='pool-1'))\n",
        "  Dropout(0.15),\n",
        "  model.add(Conv2D(64, (3, 3), activation='relu',kernel_regularizer=regularizers.l2(1e-8), kernel_initializer='he_uniform', padding='same'))\n",
        "  model.add(Conv2D(64, (3, 3), activation='relu',kernel_regularizer=regularizers.l2(1e-8), kernel_initializer='he_uniform', padding='same'))  \n",
        "  model.add(MaxPooling2D((2, 2)))\n",
        "  Dropout(0.15),\n",
        "  model.add(Conv2D(128, (3, 3), activation='relu',kernel_regularizer=regularizers.l2(1e-8), kernel_initializer='he_uniform', padding='same'))\n",
        "  model.add(Conv2D(128, (3, 3), activation='relu',kernel_regularizer=regularizers.l2(1e-8), kernel_initializer='he_uniform', padding='same'))\n",
        "  model.add(MaxPooling2D((2, 2)))\n",
        "  Dropout(0.15),\n",
        "  model.add(Flatten(name='flatten'))\n",
        "  Dropout(0.15),\n",
        "  model.add(Dense(32, activation='relu',kernel_initializer='he_uniform', kernel_regularizer=regularizers.l2(1e-8),name='dense-1'))\n",
        "  Dropout(0.15),\n",
        "  model.add(Dense(10, activation='softmax',name='dense-2'))\n",
        "  # compile model\n",
        "  #opt = SGD(learning_rate=0.01, momentum=0.9)\n",
        "  #model.compile(optimizer='adam', loss='sparse_categorical_crossentropy', metrics=['accuracy'])\n",
        "  opt = SGD(lr=0.001, momentum=0.9)\n",
        "  model.compile(optimizer=opt, loss='sparse_categorical_crossentropy', metrics=['accuracy'])\n",
        "\n",
        "  return model"
      ],
      "metadata": {
        "id": "YnNHM0gNvDBR"
      },
      "execution_count": null,
      "outputs": []
    },
    {
      "cell_type": "markdown",
      "source": [
        "Fn for getting model acc"
      ],
      "metadata": {
        "id": "eO-kN-9u33M0"
      }
    },
    {
      "cell_type": "code",
      "source": [
        "def get_model_accuracy(model,x_test,y_test):\n",
        "  test_loss,test_acc=model.evaluate(x=x_test,y=y_test,verbose=2)\n",
        "  print(f'accuracy:{test_acc}')"
      ],
      "metadata": {
        "id": "ljldy0zF37PM"
      },
      "execution_count": null,
      "outputs": []
    },
    {
      "cell_type": "markdown",
      "source": [
        "# Preparing dataset\n"
      ],
      "metadata": {
        "id": "ZiOrsy4EvcaF"
      }
    },
    {
      "cell_type": "code",
      "source": [
        "from tensorflow.keras.preprocessing import image\n",
        "import matplotlib.pyplot as plt\n",
        "from tensorflow.keras.utils import to_categorical\n",
        "from tensorflow.keras.optimizers import SGD\n",
        "import numpy as np\n",
        "import pandas as pd\n",
        "from tensorflow.keras import regularizers\n"
      ],
      "metadata": {
        "id": "g0yn007zviNf"
      },
      "execution_count": null,
      "outputs": []
    },
    {
      "cell_type": "code",
      "source": [
        "cifar_data=tf.keras.datasets.cifar10\n",
        "(train_images,train_labels),(test_images,test_labels)=cifar_data.load_data()\n",
        "\n"
      ],
      "metadata": {
        "id": "eEw4AZlJxU6L"
      },
      "execution_count": null,
      "outputs": []
    },
    {
      "cell_type": "code",
      "source": [
        "train_images=train_images[:10000]\n",
        "train_labels=train_labels[:10000]\n",
        "test_images=test_images[:10000]\n",
        "test_labels=test_labels[:10000]"
      ],
      "metadata": {
        "id": "aQcYiK2n_FKT"
      },
      "execution_count": null,
      "outputs": []
    },
    {
      "cell_type": "code",
      "source": [
        "train_images.shape"
      ],
      "metadata": {
        "colab": {
          "base_uri": "https://localhost:8080/"
        },
        "id": "zPvGJsvlxq80",
        "outputId": "1a6dd2c9-7b10-4052-ad4f-5201761e493a"
      },
      "execution_count": null,
      "outputs": [
        {
          "output_type": "execute_result",
          "data": {
            "text/plain": [
              "(50000, 32, 32, 3)"
            ]
          },
          "metadata": {},
          "execution_count": 12
        }
      ]
    },
    {
      "cell_type": "markdown",
      "source": [
        "#Img Visualization"
      ],
      "metadata": {
        "id": "z7AORGKJCiEA"
      }
    },
    {
      "cell_type": "markdown",
      "source": [
        "#Rescaling Images"
      ],
      "metadata": {
        "id": "83f_3rXP8oLg"
      }
    },
    {
      "cell_type": "code",
      "source": [
        "\n",
        "\n",
        "# normalize to range 0-1\n",
        "train_images = train_images / 255.0\n",
        "test_images = test_images / 255.0"
      ],
      "metadata": {
        "id": "d5MY7W_FyqBD"
      },
      "execution_count": null,
      "outputs": []
    },
    {
      "cell_type": "code",
      "source": [
        "fig,ax=plt.subplots(1,10,figsize=(8, 6))\n",
        "\n",
        "for i in range(10):\n",
        "\tax[i].set_axis_off()\n",
        "\tax[i].imshow(train_images[i])"
      ],
      "metadata": {
        "colab": {
          "base_uri": "https://localhost:8080/",
          "height": 69
        },
        "id": "Sd7y-UMQCkRA",
        "outputId": "b0507e44-7d8e-4cd2-d7d5-0eba08f321ed"
      },
      "execution_count": null,
      "outputs": [
        {
          "output_type": "display_data",
          "data": {
            "image/png": "[encoded data removed]",
            "text/plain": [
              "<Figure size 576x432 with 10 Axes>"
            ]
          },
          "metadata": {
            "needs_background": "light"
          }
        }
      ]
    },
    {
      "cell_type": "markdown",
      "source": [
        "#Labels"
      ],
      "metadata": {
        "id": "M3E9O0cugdIZ"
      }
    },
    {
      "cell_type": "code",
      "source": [
        "labels=[\n",
        "        'airplane',\n",
        "        'automobile',\n",
        "        'bird',\n",
        "        'cat',\n",
        "        'deer',\n",
        "        'dog',\n",
        "        'frog',\n",
        "        'horse',\n",
        "        'ship',\n",
        "        'truck',\n",
        "]\n"
      ],
      "metadata": {
        "id": "ENDDCVypgfEY"
      },
      "execution_count": 57,
      "outputs": []
    },
    {
      "cell_type": "markdown",
      "source": [
        "#Model"
      ],
      "metadata": {
        "id": "1Tujsjyn5D3F"
      }
    },
    {
      "cell_type": "code",
      "source": [
        "model=get_newmodel()\n",
        "model.summary()\n"
      ],
      "metadata": {
        "colab": {
          "base_uri": "https://localhost:8080/"
        },
        "id": "2A8HLplo5FoU",
        "outputId": "00cec603-7267-4f0e-b7c4-5d167a4e4146"
      },
      "execution_count": null,
      "outputs": [
        {
          "output_type": "stream",
          "name": "stdout",
          "text": [
            "Model: \"sequential\"\n",
            "_________________________________________________________________\n",
            " Layer (type)                Output Shape              Param #   \n",
            "=================================================================\n",
            " conv_1 (Conv2D)             (None, 32, 32, 32)        896       \n",
            "                                                                 \n",
            " conv_2 (Conv2D)             (None, 32, 32, 32)        9248      \n",
            "                                                                 \n",
            " pool-1 (MaxPooling2D)       (None, 8, 8, 32)          0         \n",
            "                                                                 \n",
            " conv2d (Conv2D)             (None, 8, 8, 64)          18496     \n",
            "                                                                 \n",
            " conv2d_1 (Conv2D)           (None, 8, 8, 64)          36928     \n",
            "                                                                 \n",
            " max_pooling2d (MaxPooling2D  (None, 4, 4, 64)         0         \n",
            " )                                                               \n",
            "                                                                 \n",
            " conv2d_2 (Conv2D)           (None, 4, 4, 128)         73856     \n",
            "                                                                 \n",
            " conv2d_3 (Conv2D)           (None, 4, 4, 128)         147584    \n",
            "                                                                 \n",
            " max_pooling2d_1 (MaxPooling  (None, 2, 2, 128)        0         \n",
            " 2D)                                                             \n",
            "                                                                 \n",
            " flatten (Flatten)           (None, 512)               0         \n",
            "                                                                 \n",
            " dense-1 (Dense)             (None, 32)                16416     \n",
            "                                                                 \n",
            " dense-2 (Dense)             (None, 10)                330       \n",
            "                                                                 \n",
            "=================================================================\n",
            "Total params: 303,754\n",
            "Trainable params: 303,754\n",
            "Non-trainable params: 0\n",
            "_________________________________________________________________\n"
          ]
        },
        {
          "output_type": "stream",
          "name": "stderr",
          "text": [
            "/usr/local/lib/python3.7/dist-packages/keras/optimizer_v2/gradient_descent.py:102: UserWarning: The `lr` argument is deprecated, use `learning_rate` instead.\n",
            "  super(SGD, self).__init__(name, **kwargs)\n"
          ]
        }
      ]
    },
    {
      "cell_type": "code",
      "source": [
        "#accuracy\n",
        "get_model_accuracy(model,train_images,train_labels)"
      ],
      "metadata": {
        "colab": {
          "base_uri": "https://localhost:8080/"
        },
        "id": "Xf2YaesN6X3c",
        "outputId": "cd97fa55-bc32-4d84-c72a-bb9545a92147"
      },
      "execution_count": null,
      "outputs": [
        {
          "output_type": "stream",
          "name": "stdout",
          "text": [
            "1563/1563 - 15s - loss: 2.8093 - accuracy: 0.1071 - 15s/epoch - 10ms/step\n",
            "accuracy:0.10713999718427658\n"
          ]
        }
      ]
    },
    {
      "cell_type": "markdown",
      "source": [
        "#Checkpoint"
      ],
      "metadata": {
        "id": "EIW0xqeH7-g1"
      }
    },
    {
      "cell_type": "code",
      "source": [
        "from tensorflow.keras.callbacks import ModelCheckpoint  "
      ],
      "metadata": {
        "id": "SfM284MA8UNq"
      },
      "execution_count": null,
      "outputs": []
    },
    {
      "cell_type": "code",
      "source": [
        "checkpoint_path='/content/model_checkpoints/checkpoint'\n",
        "checkpoint=ModelCheckpoint(filepath=checkpoint_path,frequency='epoch',save_weights_only=True,verbose=2)"
      ],
      "metadata": {
        "id": "3RxIk7gp8Ai7"
      },
      "execution_count": null,
      "outputs": []
    },
    {
      "cell_type": "markdown",
      "source": [
        "#Training"
      ],
      "metadata": {
        "id": "EG8_qLvK8raa"
      }
    },
    {
      "cell_type": "code",
      "source": [
        "history=model.fit(train_images,train_labels,epochs=50,batch_size=32,callbacks=[checkpoint],validation_data=(test_images, test_labels),verbose=2)\n"
      ],
      "metadata": {
        "id": "yypXOPhazme1",
        "colab": {
          "base_uri": "https://localhost:8080/"
        },
        "outputId": "664eed27-7b62-4a38-efb5-68bc0cbe9d57"
      },
      "execution_count": null,
      "outputs": [
        {
          "output_type": "stream",
          "name": "stdout",
          "text": [
            "Epoch 1/50\n",
            "\n",
            "Epoch 00001: saving model to /content/model_checkpoints/checkpoint\n",
            "1563/1563 - 20s - loss: 0.0153 - accuracy: 0.9948 - val_loss: 2.6317 - val_accuracy: 0.7332 - 20s/epoch - 13ms/step\n",
            "Epoch 2/50\n",
            "\n",
            "Epoch 00002: saving model to /content/model_checkpoints/checkpoint\n",
            "1563/1563 - 18s - loss: 0.0212 - accuracy: 0.9933 - val_loss: 2.9196 - val_accuracy: 0.7144 - 18s/epoch - 11ms/step\n",
            "Epoch 3/50\n",
            "\n",
            "Epoch 00003: saving model to /content/model_checkpoints/checkpoint\n",
            "1563/1563 - 17s - loss: 0.0156 - accuracy: 0.9950 - val_loss: 2.5869 - val_accuracy: 0.7381 - 17s/epoch - 11ms/step\n",
            "Epoch 4/50\n",
            "\n",
            "Epoch 00004: saving model to /content/model_checkpoints/checkpoint\n",
            "1563/1563 - 17s - loss: 0.0078 - accuracy: 0.9974 - val_loss: 2.6244 - val_accuracy: 0.7415 - 17s/epoch - 11ms/step\n",
            "Epoch 5/50\n",
            "\n",
            "Epoch 00005: saving model to /content/model_checkpoints/checkpoint\n",
            "1563/1563 - 18s - loss: 0.0093 - accuracy: 0.9969 - val_loss: 2.7607 - val_accuracy: 0.7358 - 18s/epoch - 11ms/step\n",
            "Epoch 6/50\n",
            "\n",
            "Epoch 00006: saving model to /content/model_checkpoints/checkpoint\n",
            "1563/1563 - 18s - loss: 0.0141 - accuracy: 0.9957 - val_loss: 2.8402 - val_accuracy: 0.7266 - 18s/epoch - 11ms/step\n",
            "Epoch 7/50\n",
            "\n",
            "Epoch 00007: saving model to /content/model_checkpoints/checkpoint\n",
            "1563/1563 - 17s - loss: 0.0117 - accuracy: 0.9958 - val_loss: 2.6467 - val_accuracy: 0.7370 - 17s/epoch - 11ms/step\n",
            "Epoch 8/50\n",
            "\n",
            "Epoch 00008: saving model to /content/model_checkpoints/checkpoint\n",
            "1563/1563 - 18s - loss: 0.0203 - accuracy: 0.9937 - val_loss: 2.6812 - val_accuracy: 0.7292 - 18s/epoch - 11ms/step\n",
            "Epoch 9/50\n",
            "\n",
            "Epoch 00009: saving model to /content/model_checkpoints/checkpoint\n",
            "1563/1563 - 17s - loss: 0.0356 - accuracy: 0.9886 - val_loss: 2.6135 - val_accuracy: 0.7335 - 17s/epoch - 11ms/step\n",
            "Epoch 10/50\n",
            "\n",
            "Epoch 00010: saving model to /content/model_checkpoints/checkpoint\n",
            "1563/1563 - 17s - loss: 0.0307 - accuracy: 0.9900 - val_loss: 2.5712 - val_accuracy: 0.7331 - 17s/epoch - 11ms/step\n",
            "Epoch 11/50\n",
            "\n",
            "Epoch 00011: saving model to /content/model_checkpoints/checkpoint\n",
            "1563/1563 - 17s - loss: 0.0360 - accuracy: 0.9888 - val_loss: 2.4975 - val_accuracy: 0.7293 - 17s/epoch - 11ms/step\n",
            "Epoch 12/50\n",
            "\n",
            "Epoch 00012: saving model to /content/model_checkpoints/checkpoint\n",
            "1563/1563 - 18s - loss: 0.0262 - accuracy: 0.9915 - val_loss: 2.6438 - val_accuracy: 0.7298 - 18s/epoch - 11ms/step\n",
            "Epoch 13/50\n",
            "\n",
            "Epoch 00013: saving model to /content/model_checkpoints/checkpoint\n",
            "1563/1563 - 17s - loss: 0.0370 - accuracy: 0.9874 - val_loss: 2.6794 - val_accuracy: 0.7270 - 17s/epoch - 11ms/step\n",
            "Epoch 14/50\n",
            "\n",
            "Epoch 00014: saving model to /content/model_checkpoints/checkpoint\n",
            "1563/1563 - 17s - loss: 0.0293 - accuracy: 0.9902 - val_loss: 2.6699 - val_accuracy: 0.7333 - 17s/epoch - 11ms/step\n",
            "Epoch 15/50\n",
            "\n",
            "Epoch 00015: saving model to /content/model_checkpoints/checkpoint\n",
            "1563/1563 - 18s - loss: 0.0186 - accuracy: 0.9937 - val_loss: 2.6477 - val_accuracy: 0.7386 - 18s/epoch - 11ms/step\n",
            "Epoch 16/50\n",
            "\n",
            "Epoch 00016: saving model to /content/model_checkpoints/checkpoint\n",
            "1563/1563 - 18s - loss: 0.0055 - accuracy: 0.9982 - val_loss: 2.6485 - val_accuracy: 0.7399 - 18s/epoch - 11ms/step\n",
            "Epoch 17/50\n",
            "\n",
            "Epoch 00017: saving model to /content/model_checkpoints/checkpoint\n",
            "1563/1563 - 16s - loss: 0.0048 - accuracy: 0.9984 - val_loss: 2.7983 - val_accuracy: 0.7394 - 16s/epoch - 11ms/step\n",
            "Epoch 18/50\n",
            "\n",
            "Epoch 00018: saving model to /content/model_checkpoints/checkpoint\n",
            "1563/1563 - 16s - loss: 0.0034 - accuracy: 0.9989 - val_loss: 2.8096 - val_accuracy: 0.7382 - 16s/epoch - 11ms/step\n",
            "Epoch 19/50\n",
            "\n",
            "Epoch 00019: saving model to /content/model_checkpoints/checkpoint\n",
            "1563/1563 - 16s - loss: 0.0044 - accuracy: 0.9988 - val_loss: 2.8220 - val_accuracy: 0.7441 - 16s/epoch - 11ms/step\n",
            "Epoch 20/50\n",
            "\n",
            "Epoch 00020: saving model to /content/model_checkpoints/checkpoint\n",
            "1563/1563 - 18s - loss: 0.0070 - accuracy: 0.9976 - val_loss: 2.9198 - val_accuracy: 0.7314 - 18s/epoch - 11ms/step\n",
            "Epoch 21/50\n",
            "\n",
            "Epoch 00021: saving model to /content/model_checkpoints/checkpoint\n",
            "1563/1563 - 17s - loss: 0.0076 - accuracy: 0.9975 - val_loss: 2.8569 - val_accuracy: 0.7306 - 17s/epoch - 11ms/step\n",
            "Epoch 22/50\n",
            "\n",
            "Epoch 00022: saving model to /content/model_checkpoints/checkpoint\n",
            "1563/1563 - 18s - loss: 0.0068 - accuracy: 0.9978 - val_loss: 2.9044 - val_accuracy: 0.7359 - 18s/epoch - 11ms/step\n",
            "Epoch 23/50\n",
            "\n",
            "Epoch 00023: saving model to /content/model_checkpoints/checkpoint\n",
            "1563/1563 - 18s - loss: 0.0162 - accuracy: 0.9948 - val_loss: 3.0618 - val_accuracy: 0.7259 - 18s/epoch - 11ms/step\n",
            "Epoch 24/50\n",
            "\n",
            "Epoch 00024: saving model to /content/model_checkpoints/checkpoint\n",
            "1563/1563 - 17s - loss: 0.0224 - accuracy: 0.9927 - val_loss: 2.7325 - val_accuracy: 0.7316 - 17s/epoch - 11ms/step\n",
            "Epoch 25/50\n",
            "\n",
            "Epoch 00025: saving model to /content/model_checkpoints/checkpoint\n",
            "1563/1563 - 18s - loss: 0.0135 - accuracy: 0.9954 - val_loss: 2.9817 - val_accuracy: 0.7224 - 18s/epoch - 11ms/step\n",
            "Epoch 26/50\n",
            "\n",
            "Epoch 00026: saving model to /content/model_checkpoints/checkpoint\n",
            "1563/1563 - 17s - loss: 0.0277 - accuracy: 0.9910 - val_loss: 2.7501 - val_accuracy: 0.7346 - 17s/epoch - 11ms/step\n",
            "Epoch 27/50\n",
            "\n",
            "Epoch 00027: saving model to /content/model_checkpoints/checkpoint\n",
            "1563/1563 - 18s - loss: 0.0252 - accuracy: 0.9919 - val_loss: 2.8955 - val_accuracy: 0.7278 - 18s/epoch - 11ms/step\n",
            "Epoch 28/50\n",
            "\n",
            "Epoch 00028: saving model to /content/model_checkpoints/checkpoint\n",
            "1563/1563 - 17s - loss: 0.0248 - accuracy: 0.9921 - val_loss: 2.7258 - val_accuracy: 0.7305 - 17s/epoch - 11ms/step\n",
            "Epoch 29/50\n",
            "\n",
            "Epoch 00029: saving model to /content/model_checkpoints/checkpoint\n",
            "1563/1563 - 18s - loss: 0.0273 - accuracy: 0.9914 - val_loss: 2.8129 - val_accuracy: 0.7329 - 18s/epoch - 11ms/step\n",
            "Epoch 30/50\n",
            "\n",
            "Epoch 00030: saving model to /content/model_checkpoints/checkpoint\n",
            "1563/1563 - 18s - loss: 0.0208 - accuracy: 0.9936 - val_loss: 2.7444 - val_accuracy: 0.7298 - 18s/epoch - 11ms/step\n",
            "Epoch 31/50\n",
            "\n",
            "Epoch 00031: saving model to /content/model_checkpoints/checkpoint\n",
            "1563/1563 - 18s - loss: 0.0159 - accuracy: 0.9948 - val_loss: 2.7949 - val_accuracy: 0.7272 - 18s/epoch - 11ms/step\n",
            "Epoch 32/50\n",
            "\n",
            "Epoch 00032: saving model to /content/model_checkpoints/checkpoint\n",
            "1563/1563 - 18s - loss: 0.0242 - accuracy: 0.9919 - val_loss: 2.7757 - val_accuracy: 0.7343 - 18s/epoch - 11ms/step\n",
            "Epoch 33/50\n",
            "\n",
            "Epoch 00033: saving model to /content/model_checkpoints/checkpoint\n",
            "1563/1563 - 17s - loss: 0.0136 - accuracy: 0.9955 - val_loss: 2.9404 - val_accuracy: 0.7322 - 17s/epoch - 11ms/step\n",
            "Epoch 34/50\n",
            "\n",
            "Epoch 00034: saving model to /content/model_checkpoints/checkpoint\n",
            "1563/1563 - 17s - loss: 0.0182 - accuracy: 0.9942 - val_loss: 2.8375 - val_accuracy: 0.7301 - 17s/epoch - 11ms/step\n",
            "Epoch 35/50\n",
            "\n",
            "Epoch 00035: saving model to /content/model_checkpoints/checkpoint\n",
            "1563/1563 - 18s - loss: 0.0142 - accuracy: 0.9956 - val_loss: 2.9111 - val_accuracy: 0.7359 - 18s/epoch - 11ms/step\n",
            "Epoch 36/50\n",
            "\n",
            "Epoch 00036: saving model to /content/model_checkpoints/checkpoint\n",
            "1563/1563 - 18s - loss: 0.0167 - accuracy: 0.9947 - val_loss: 2.8576 - val_accuracy: 0.7316 - 18s/epoch - 11ms/step\n",
            "Epoch 37/50\n",
            "\n",
            "Epoch 00037: saving model to /content/model_checkpoints/checkpoint\n",
            "1563/1563 - 18s - loss: 0.0120 - accuracy: 0.9960 - val_loss: 2.7850 - val_accuracy: 0.7362 - 18s/epoch - 11ms/step\n",
            "Epoch 38/50\n",
            "\n",
            "Epoch 00038: saving model to /content/model_checkpoints/checkpoint\n",
            "1563/1563 - 16s - loss: 0.0084 - accuracy: 0.9972 - val_loss: 2.9943 - val_accuracy: 0.7323 - 16s/epoch - 11ms/step\n",
            "Epoch 39/50\n",
            "\n",
            "Epoch 00039: saving model to /content/model_checkpoints/checkpoint\n",
            "1563/1563 - 16s - loss: 0.0110 - accuracy: 0.9964 - val_loss: 2.8668 - val_accuracy: 0.7370 - 16s/epoch - 11ms/step\n",
            "Epoch 40/50\n",
            "\n",
            "Epoch 00040: saving model to /content/model_checkpoints/checkpoint\n",
            "1563/1563 - 18s - loss: 0.0193 - accuracy: 0.9945 - val_loss: 2.8098 - val_accuracy: 0.7311 - 18s/epoch - 11ms/step\n",
            "Epoch 41/50\n",
            "\n",
            "Epoch 00041: saving model to /content/model_checkpoints/checkpoint\n",
            "1563/1563 - 18s - loss: 0.0168 - accuracy: 0.9948 - val_loss: 3.0408 - val_accuracy: 0.7268 - 18s/epoch - 11ms/step\n",
            "Epoch 42/50\n",
            "\n",
            "Epoch 00042: saving model to /content/model_checkpoints/checkpoint\n",
            "1563/1563 - 18s - loss: 0.0142 - accuracy: 0.9955 - val_loss: 2.8665 - val_accuracy: 0.7234 - 18s/epoch - 11ms/step\n",
            "Epoch 43/50\n",
            "\n",
            "Epoch 00043: saving model to /content/model_checkpoints/checkpoint\n",
            "1563/1563 - 17s - loss: 0.0180 - accuracy: 0.9942 - val_loss: 3.0354 - val_accuracy: 0.7264 - 17s/epoch - 11ms/step\n",
            "Epoch 44/50\n",
            "\n",
            "Epoch 00044: saving model to /content/model_checkpoints/checkpoint\n",
            "1563/1563 - 18s - loss: 0.0277 - accuracy: 0.9910 - val_loss: 2.9159 - val_accuracy: 0.7272 - 18s/epoch - 11ms/step\n",
            "Epoch 45/50\n",
            "\n",
            "Epoch 00045: saving model to /content/model_checkpoints/checkpoint\n",
            "1563/1563 - 18s - loss: 0.0280 - accuracy: 0.9914 - val_loss: 2.7943 - val_accuracy: 0.7323 - 18s/epoch - 11ms/step\n",
            "Epoch 46/50\n",
            "\n",
            "Epoch 00046: saving model to /content/model_checkpoints/checkpoint\n",
            "1563/1563 - 18s - loss: 0.0230 - accuracy: 0.9922 - val_loss: 2.9961 - val_accuracy: 0.7341 - 18s/epoch - 11ms/step\n",
            "Epoch 47/50\n",
            "\n",
            "Epoch 00047: saving model to /content/model_checkpoints/checkpoint\n",
            "1563/1563 - 18s - loss: 0.0150 - accuracy: 0.9952 - val_loss: 2.8758 - val_accuracy: 0.7318 - 18s/epoch - 11ms/step\n",
            "Epoch 48/50\n",
            "\n",
            "Epoch 00048: saving model to /content/model_checkpoints/checkpoint\n",
            "1563/1563 - 17s - loss: 0.0130 - accuracy: 0.9956 - val_loss: 2.8789 - val_accuracy: 0.7402 - 17s/epoch - 11ms/step\n",
            "Epoch 49/50\n",
            "\n",
            "Epoch 00049: saving model to /content/model_checkpoints/checkpoint\n",
            "1563/1563 - 17s - loss: 0.0179 - accuracy: 0.9945 - val_loss: 2.8672 - val_accuracy: 0.7350 - 17s/epoch - 11ms/step\n",
            "Epoch 50/50\n",
            "\n",
            "Epoch 00050: saving model to /content/model_checkpoints/checkpoint\n",
            "1563/1563 - 17s - loss: 0.0133 - accuracy: 0.9958 - val_loss: 3.0532 - val_accuracy: 0.7321 - 17s/epoch - 11ms/step\n"
          ]
        }
      ]
    },
    {
      "cell_type": "markdown",
      "source": [
        "#Load Model\n"
      ],
      "metadata": {
        "id": "tp5z1yY9-Y0S"
      }
    },
    {
      "cell_type": "code",
      "source": [
        "model=get_newmodel()\n",
        "model.summary()\n",
        "#accuracy\n",
        "get_model_accuracy(model,train_images,train_labels)"
      ],
      "metadata": {
        "colab": {
          "base_uri": "https://localhost:8080/"
        },
        "id": "uS0xER0s-YQv",
        "outputId": "6d7fa6c1-ff90-45fe-c624-be1cb94c4119"
      },
      "execution_count": null,
      "outputs": [
        {
          "output_type": "stream",
          "name": "stdout",
          "text": [
            "Model: \"sequential_1\"\n",
            "_________________________________________________________________\n",
            " Layer (type)                Output Shape              Param #   \n",
            "=================================================================\n",
            " conv_1 (Conv2D)             (None, 32, 32, 32)        896       \n",
            "                                                                 \n",
            " conv_2 (Conv2D)             (None, 32, 32, 32)        9248      \n",
            "                                                                 \n",
            " pool-1 (MaxPooling2D)       (None, 8, 8, 32)          0         \n",
            "                                                                 \n",
            " conv2d_4 (Conv2D)           (None, 8, 8, 64)          18496     \n",
            "                                                                 \n",
            " conv2d_5 (Conv2D)           (None, 8, 8, 64)          36928     \n",
            "                                                                 \n",
            " max_pooling2d_2 (MaxPooling  (None, 4, 4, 64)         0         \n",
            " 2D)                                                             \n",
            "                                                                 \n",
            " conv2d_6 (Conv2D)           (None, 4, 4, 128)         73856     \n",
            "                                                                 \n",
            " conv2d_7 (Conv2D)           (None, 4, 4, 128)         147584    \n",
            "                                                                 \n",
            " max_pooling2d_3 (MaxPooling  (None, 2, 2, 128)        0         \n",
            " 2D)                                                             \n",
            "                                                                 \n",
            " flatten (Flatten)           (None, 512)               0         \n",
            "                                                                 \n",
            " dense-1 (Dense)             (None, 32)                16416     \n",
            "                                                                 \n",
            " dense-2 (Dense)             (None, 10)                330       \n",
            "                                                                 \n",
            "=================================================================\n",
            "Total params: 303,754\n",
            "Trainable params: 303,754\n",
            "Non-trainable params: 0\n",
            "_________________________________________________________________\n"
          ]
        },
        {
          "output_type": "stream",
          "name": "stderr",
          "text": [
            "/usr/local/lib/python3.7/dist-packages/keras/optimizer_v2/gradient_descent.py:102: UserWarning: The `lr` argument is deprecated, use `learning_rate` instead.\n",
            "  super(SGD, self).__init__(name, **kwargs)\n"
          ]
        },
        {
          "output_type": "stream",
          "name": "stdout",
          "text": [
            "1563/1563 - 8s - loss: 2.7594 - accuracy: 0.1194 - 8s/epoch - 5ms/step\n",
            "accuracy:0.11940000206232071\n"
          ]
        }
      ]
    },
    {
      "cell_type": "code",
      "source": [
        "model.load_weights(checkpoint_path)\n",
        "get_model_accuracy(model,train_images,train_labels)"
      ],
      "metadata": {
        "colab": {
          "base_uri": "https://localhost:8080/"
        },
        "id": "26L_5XBx-grS",
        "outputId": "23afbeb5-e8d8-49ba-f70d-79274da419d8"
      },
      "execution_count": null,
      "outputs": [
        {
          "output_type": "stream",
          "name": "stdout",
          "text": [
            "1563/1563 - 8s - loss: 0.0199 - accuracy: 0.9932 - 8s/epoch - 5ms/step\n",
            "accuracy:0.9932000041007996\n"
          ]
        }
      ]
    },
    {
      "cell_type": "code",
      "source": [
        "import pandas as pd  \n",
        "df=pd.DataFrame(history.history)\n",
        "df.head()"
      ],
      "metadata": {
        "colab": {
          "base_uri": "https://localhost:8080/",
          "height": 206
        },
        "id": "y5oINxXT0p2m",
        "outputId": "39e243e4-e0d7-48ed-87f7-2fb2975a9934"
      },
      "execution_count": null,
      "outputs": [
        {
          "output_type": "execute_result",
          "data": {
            "text/html": [
              "\n",
              "  <div id=\"df-1a001f18-5ee8-4782-9c88-5d2e01bc4d0f\">\n",
              "    <div class=\"colab-df-container\">\n",
              "      <div>\n",
              "<style scoped>\n",
              "    .dataframe tbody tr th:only-of-type {\n",
              "        vertical-align: middle;\n",
              "    }\n",
              "\n",
              "    .dataframe tbody tr th {\n",
              "        vertical-align: top;\n",
              "    }\n",
              "\n",
              "    .dataframe thead th {\n",
              "        text-align: right;\n",
              "    }\n",
              "</style>\n",
              "<table border=\"1\" class=\"dataframe\">\n",
              "  <thead>\n",
              "    <tr style=\"text-align: right;\">\n",
              "      <th></th>\n",
              "      <th>loss</th>\n",
              "      <th>accuracy</th>\n",
              "      <th>val_loss</th>\n",
              "      <th>val_accuracy</th>\n",
              "    </tr>\n",
              "  </thead>\n",
              "  <tbody>\n",
              "    <tr>\n",
              "      <th>0</th>\n",
              "      <td>0.015325</td>\n",
              "      <td>0.99476</td>\n",
              "      <td>2.631736</td>\n",
              "      <td>0.7332</td>\n",
              "    </tr>\n",
              "    <tr>\n",
              "      <th>1</th>\n",
              "      <td>0.021159</td>\n",
              "      <td>0.99328</td>\n",
              "      <td>2.919569</td>\n",
              "      <td>0.7144</td>\n",
              "    </tr>\n",
              "    <tr>\n",
              "      <th>2</th>\n",
              "      <td>0.015603</td>\n",
              "      <td>0.99498</td>\n",
              "      <td>2.586915</td>\n",
              "      <td>0.7381</td>\n",
              "    </tr>\n",
              "    <tr>\n",
              "      <th>3</th>\n",
              "      <td>0.007751</td>\n",
              "      <td>0.99740</td>\n",
              "      <td>2.624377</td>\n",
              "      <td>0.7415</td>\n",
              "    </tr>\n",
              "    <tr>\n",
              "      <th>4</th>\n",
              "      <td>0.009296</td>\n",
              "      <td>0.99686</td>\n",
              "      <td>2.760689</td>\n",
              "      <td>0.7358</td>\n",
              "    </tr>\n",
              "  </tbody>\n",
              "</table>\n",
              "</div>\n",
              "      <button class=\"colab-df-convert\" onclick=\"convertToInteractive('df-1a001f18-5ee8-4782-9c88-5d2e01bc4d0f')\"\n",
              "              title=\"Convert this dataframe to an interactive table.\"\n",
              "              style=\"display:none;\">\n",
              "        \n",
              "  <svg xmlns=\"http://www.w3.org/2000/svg\" height=\"24px\"viewBox=\"0 0 24 24\"\n",
              "       width=\"24px\">\n",
              "    <path d=\"M0 0h24v24H0V0z\" fill=\"none\"/>\n",
              "    <path d=\"M18.56 5.44l.94 2.06.94-2.06 2.06-.94-2.06-.94-.94-2.06-.94 2.06-2.06.94zm-11 1L8.5 8.5l.94-2.06 2.06-.94-2.06-.94L8.5 2.5l-.94 2.06-2.06.94zm10 10l.94 2.06.94-2.06 2.06-.94-2.06-.94-.94-2.06-.94 2.06-2.06.94z\"/><path d=\"M17.41 7.96l-1.37-1.37c-.4-.4-.92-.59-1.43-.59-.52 0-1.04.2-1.43.59L10.3 9.45l-7.72 7.72c-.78.78-.78 2.05 0 2.83L4 21.41c.39.39.9.59 1.41.59.51 0 1.02-.2 1.41-.59l7.78-7.78 2.81-2.81c.8-.78.8-2.07 0-2.86zM5.41 20L4 18.59l7.72-7.72 1.47 1.35L5.41 20z\"/>\n",
              "  </svg>\n",
              "      </button>\n",
              "      \n",
              "  <style>\n",
              "    .colab-df-container {\n",
              "      display:flex;\n",
              "      flex-wrap:wrap;\n",
              "      gap: 12px;\n",
              "    }\n",
              "\n",
              "    .colab-df-convert {\n",
              "      background-color: #E8F0FE;\n",
              "      border: none;\n",
              "      border-radius: 50%;\n",
              "      cursor: pointer;\n",
              "      display: none;\n",
              "      fill: #1967D2;\n",
              "      height: 32px;\n",
              "      padding: 0 0 0 0;\n",
              "      width: 32px;\n",
              "    }\n",
              "\n",
              "    .colab-df-convert:hover {\n",
              "      background-color: #E2EBFA;\n",
              "      box-shadow: 0px 1px 2px rgba(60, 64, 67, 0.3), 0px 1px 3px 1px rgba(60, 64, 67, 0.15);\n",
              "      fill: #174EA6;\n",
              "    }\n",
              "\n",
              "    [theme=dark] .colab-df-convert {\n",
              "      background-color: #3B4455;\n",
              "      fill: #D2E3FC;\n",
              "    }\n",
              "\n",
              "    [theme=dark] .colab-df-convert:hover {\n",
              "      background-color: #434B5C;\n",
              "      box-shadow: 0px 1px 3px 1px rgba(0, 0, 0, 0.15);\n",
              "      filter: drop-shadow(0px 1px 2px rgba(0, 0, 0, 0.3));\n",
              "      fill: #FFFFFF;\n",
              "    }\n",
              "  </style>\n",
              "\n",
              "      <script>\n",
              "        const buttonEl =\n",
              "          document.querySelector('#df-1a001f18-5ee8-4782-9c88-5d2e01bc4d0f button.colab-df-convert');\n",
              "        buttonEl.style.display =\n",
              "          google.colab.kernel.accessAllowed ? 'block' : 'none';\n",
              "\n",
              "        async function convertToInteractive(key) {\n",
              "          const element = document.querySelector('#df-1a001f18-5ee8-4782-9c88-5d2e01bc4d0f');\n",
              "          const dataTable =\n",
              "            await google.colab.kernel.invokeFunction('convertToInteractive',\n",
              "                                                     [key], {});\n",
              "          if (!dataTable) return;\n",
              "\n",
              "          const docLinkHtml = 'Like what you see? Visit the ' +\n",
              "            '<a target=\"_blank\" href=https://colab.research.google.com/notebooks/data_table.ipynb>data table notebook</a>'\n",
              "            + ' to learn more about interactive tables.';\n",
              "          element.innerHTML = '';\n",
              "          dataTable['output_type'] = 'display_data';\n",
              "          await google.colab.output.renderOutput(dataTable, element);\n",
              "          const docLink = document.createElement('div');\n",
              "          docLink.innerHTML = docLinkHtml;\n",
              "          element.appendChild(docLink);\n",
              "        }\n",
              "      </script>\n",
              "    </div>\n",
              "  </div>\n",
              "  "
            ],
            "text/plain": [
              "       loss  accuracy  val_loss  val_accuracy\n",
              "0  0.015325   0.99476  2.631736        0.7332\n",
              "1  0.021159   0.99328  2.919569        0.7144\n",
              "2  0.015603   0.99498  2.586915        0.7381\n",
              "3  0.007751   0.99740  2.624377        0.7415\n",
              "4  0.009296   0.99686  2.760689        0.7358"
            ]
          },
          "metadata": {},
          "execution_count": 23
        }
      ]
    },
    {
      "cell_type": "code",
      "source": [
        "loss_plot=df.plot(y=\"loss\",title=\"Loss vs Epochs\",legend=False)\n",
        "loss_plot.set(xlabel=\"Epochs\",ylabel=\"Loss\")"
      ],
      "metadata": {
        "colab": {
          "base_uri": "https://localhost:8080/",
          "height": 312
        },
        "id": "mD2-7rdz0tvH",
        "outputId": "4aabb017-7045-401a-cbf0-a45aa958b0a9"
      },
      "execution_count": null,
      "outputs": [
        {
          "output_type": "execute_result",
          "data": {
            "text/plain": [
              "[Text(0, 0.5, 'Loss'), Text(0.5, 0, 'Epochs')]"
            ]
          },
          "metadata": {},
          "execution_count": 24
        },
        {
          "output_type": "display_data",
          "data": {
            "image/png": "[encoded data removed]",
            "text/plain": [
              "<Figure size 432x288 with 1 Axes>"
            ]
          },
          "metadata": {
            "needs_background": "light"
          }
        }
      ]
    },
    {
      "cell_type": "markdown",
      "source": [
        "#Prediction"
      ],
      "metadata": {
        "id": "LiOUqiHI8y8B"
      }
    },
    {
      "cell_type": "code",
      "source": [
        "test_loss,test_accuracy=model.evaluate(test_images,test_labels)  "
      ],
      "metadata": {
        "colab": {
          "base_uri": "https://localhost:8080/"
        },
        "id": "GxZBmYMu4zkj",
        "outputId": "114c8ad1-8f19-4d14-9d23-9707b97ab459"
      },
      "execution_count": null,
      "outputs": [
        {
          "output_type": "stream",
          "name": "stdout",
          "text": [
            "313/313 [==============================] - 2s 7ms/step - loss: 3.0532 - accuracy: 0.7321\n"
          ]
        }
      ]
    },
    {
      "cell_type": "code",
      "source": [
        "test_images.shape[0]"
      ],
      "metadata": {
        "colab": {
          "base_uri": "https://localhost:8080/"
        },
        "id": "ajcvwh3gOPyN",
        "outputId": "39f57f12-0b88-40d6-95d7-54a22ac4808f"
      },
      "execution_count": null,
      "outputs": [
        {
          "output_type": "execute_result",
          "data": {
            "text/plain": [
              "10000"
            ]
          },
          "metadata": {},
          "execution_count": 26
        }
      ]
    },
    {
      "cell_type": "code",
      "source": [
        "random_inx=np.random.choice(test_images.shape[0])\n",
        "test_image=test_images[random_inx]\n",
        "\n",
        "plt.imshow(test_image)\n",
        "figsize=(8, 6)\n",
        "plt.show()\n",
        "print(f\"Actual label: {test_labels[random_inx]}\")\n",
        "a=(test_labels[random_inx])\n",
        "print(f\"Actual label: {labels[a[0]]}\")\n"
      ],
      "metadata": {
        "colab": {
          "base_uri": "https://localhost:8080/",
          "height": 301
        },
        "id": "ZS8TYXqi5mBl",
        "outputId": "169b3a59-0311-482b-eaa3-c67f5f723960"
      },
      "execution_count": 58,
      "outputs": [
        {
          "output_type": "display_data",
          "data": {
            "image/png": "[encoded data removed]",
            "text/plain": [
              "<Figure size 432x288 with 1 Axes>"
            ]
          },
          "metadata": {
            "needs_background": "light"
          }
        },
        {
          "output_type": "stream",
          "name": "stdout",
          "text": [
            "Actual label: [9]\n",
            "Actual label: truck\n"
          ]
        }
      ]
    },
    {
      "cell_type": "code",
      "source": [
        "prediction=model.predict(test_image[np.newaxis,...,np.newaxis])\n",
        "print(prediction)\n",
        "print(f\"Model Prediction: {labels[np.argmax(prediction)]}\")"
      ],
      "metadata": {
        "colab": {
          "base_uri": "https://localhost:8080/"
        },
        "id": "8mcYQ-gg6FYt",
        "outputId": "bd40b67b-9304-4f0b-da38-7c943bdcc55b"
      },
      "execution_count": 59,
      "outputs": [
        {
          "output_type": "stream",
          "name": "stdout",
          "text": [
            "[[0. 0. 0. 0. 0. 0. 0. 0. 0. 1.]]\n",
            "Model Prediction: truck\n"
          ]
        }
      ]
    },
    {
      "cell_type": "markdown",
      "source": [
        "**So the prediction and the actual labels matches**"
      ],
      "metadata": {
        "id": "XOc73m7I82Qw"
      }
    }
  ]
}